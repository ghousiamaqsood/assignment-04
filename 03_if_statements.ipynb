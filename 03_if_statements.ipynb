{
  "nbformat": 4,
  "nbformat_minor": 0,
  "metadata": {
    "colab": {
      "private_outputs": true,
      "provenance": [],
      "authorship_tag": "ABX9TyOLjhLlwGWEWxxkK7a/Lbs/",
      "include_colab_link": true
    },
    "kernelspec": {
      "name": "python3",
      "display_name": "Python 3"
    },
    "language_info": {
      "name": "python"
    }
  },
  "cells": [
    {
      "cell_type": "markdown",
      "metadata": {
        "id": "view-in-github",
        "colab_type": "text"
      },
      "source": [
        "<a href=\"https://colab.research.google.com/github/ghousiamaqsood/assignment-04/blob/main/03_if_statements.ipynb\" target=\"_parent\"><img src=\"https://colab.research.google.com/assets/colab-badge.svg\" alt=\"Open In Colab\"/></a>"
      ]
    },
    {
      "cell_type": "code",
      "execution_count": null,
      "metadata": {
        "id": "AmB6gXlDsuWq"
      },
      "outputs": [],
      "source": []
    },
    {
      "cell_type": "code",
      "source": [
        "def main():\n",
        "    for i in range(0, 40, 2):  # Loop from 0 to 38 (exclusive) with a step of 2\n",
        "        print(i, end=\" \")  # Print the current number and a space\n",
        "\n",
        "\n",
        "# This provided line is required at the end of\n",
        "# Python file to call the main() function.\n",
        "if __name__ == '__main__':\n",
        "    main()"
      ],
      "metadata": {
        "id": "DOAFSzIstAvg"
      },
      "execution_count": null,
      "outputs": []
    },
    {
      "cell_type": "code",
      "source": [
        "def main():\n",
        "    age = int(input(\"How old are you? \"))\n",
        "\n",
        "    # Check voting eligibility for each country\n",
        "    if age >= 16:\n",
        "        print(\"You can vote in Peturksbouipo where the voting age is 16.\")\n",
        "    else:\n",
        "        print(\"You cannot vote in Peturksbouipo where the voting age is 16.\")\n",
        "\n",
        "    if age >= 25:\n",
        "        print(\"You can vote in Stanlau where the voting age is 25.\")\n",
        "    else:\n",
        "        print(\"You cannot vote in Stanlau where the voting age is 25.\")\n",
        "\n",
        "    if age >= 48:\n",
        "        print(\"You can vote in Mayengua where the voting age is 48.\")\n",
        "    else:\n",
        "        print(\"You cannot vote in Mayengua where the voting age is 48.\")\n",
        "\n",
        "\n",
        "# This provided line is required at the end of\n",
        "# Python file to call the main() function.\n",
        "if __name__ == '__main__':\n",
        "    main()"
      ],
      "metadata": {
        "id": "aAKb23nvtQhh"
      },
      "execution_count": null,
      "outputs": []
    },
    {
      "cell_type": "code",
      "source": [
        "def main():\n",
        "    year = int(input(\"Enter a year: \"))\n",
        "\n",
        "    if (year % 4 == 0 and year % 100 != 0) or (year % 400 == 0):\n",
        "        print(\"That's a leap year!\")\n",
        "    else:\n",
        "        print(\"That's not a leap year.\")\n",
        "\n",
        "\n",
        "if __name__ == '__main__':\n",
        "    main()"
      ],
      "metadata": {
        "id": "DJX6pJsLtjn8"
      },
      "execution_count": null,
      "outputs": []
    },
    {
      "cell_type": "code",
      "source": [
        "def tall_enough_extension():\n",
        "    minimum_height = 50\n",
        "\n",
        "    while True:\n",
        "        height_str = input(\"How tall are you? \")\n",
        "        if not height_str:  # Check if the input is empty\n",
        "            break\n",
        "\n",
        "        height = int(height_str)\n",
        "\n",
        "        if height >= minimum_height:\n",
        "            print(\"You're tall enough to ride!\")\n",
        "        else:\n",
        "            print(\"You're not tall enough to ride, but maybe next year!\")\n",
        "\n",
        "if __name__ == \"__main__\":\n",
        "    # main()  # Comment out the original main() function if you want to run the extension\n",
        "    tall_enough_extension()"
      ],
      "metadata": {
        "id": "bmrgxJ5htyNP"
      },
      "execution_count": null,
      "outputs": []
    },
    {
      "cell_type": "code",
      "source": [
        "import random\n",
        "\n",
        "def main():\n",
        "    for _ in range(10):\n",
        "        random_number = random.randint(1, 100)\n",
        "        print(random_number, end=\" \")\n",
        "    print()  # Print a newline at the end\n",
        "\n",
        "if __name__ == \"__main__\":\n",
        "    main()"
      ],
      "metadata": {
        "id": "bl-60MT8uF-u"
      },
      "execution_count": null,
      "outputs": []
    }
  ]
}