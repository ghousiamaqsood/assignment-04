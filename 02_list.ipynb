{
  "nbformat": 4,
  "nbformat_minor": 0,
  "metadata": {
    "colab": {
      "private_outputs": true,
      "provenance": [],
      "authorship_tag": "ABX9TyPZNeGvCGiQOt69EvFHlKMh",
      "include_colab_link": true
    },
    "kernelspec": {
      "name": "python3",
      "display_name": "Python 3"
    },
    "language_info": {
      "name": "python"
    }
  },
  "cells": [
    {
      "cell_type": "markdown",
      "metadata": {
        "id": "view-in-github",
        "colab_type": "text"
      },
      "source": [
        "<a href=\"https://colab.research.google.com/github/ghousiamaqsood/assignment-04/blob/main/02_list.ipynb\" target=\"_parent\"><img src=\"https://colab.research.google.com/assets/colab-badge.svg\" alt=\"Open In Colab\"/></a>"
      ]
    },
    {
      "cell_type": "code",
      "execution_count": null,
      "metadata": {
        "id": "FSzOyVZzqE-D"
      },
      "outputs": [],
      "source": []
    },
    {
      "cell_type": "code",
      "source": [
        "def sum_numbers(numbers):\n",
        "    \"\"\"\n",
        "    This function takes a list of numbers and returns the sum of those numbers.\n",
        "\n",
        "    Args:\n",
        "    numbers: A list of numbers.\n",
        "\n",
        "    Returns:\n",
        "    The sum of the numbers in the list.\n",
        "    \"\"\"\n",
        "    total = 0\n",
        "    for number in numbers:\n",
        "        total += number\n",
        "    return total\n",
        "\n",
        "\n",
        "def main():\n",
        "    # Example usage\n",
        "    numbers = [1, 2, 3, 4, 5]\n",
        "    total_sum = sum_numbers(numbers)\n",
        "    print(\"The sum of the numbers is:\", total_sum)\n",
        "\n",
        "\n",
        "# This provided line is required at the end of\n",
        "# Python file to call the main() function.\n",
        "if __name__ == '__main__':\n",
        "    main()"
      ],
      "metadata": {
        "id": "S3Z-LrYTqNZ9"
      },
      "execution_count": null,
      "outputs": []
    },
    {
      "cell_type": "code",
      "source": [],
      "metadata": {
        "id": "nwbOTlSXqSXG"
      },
      "execution_count": null,
      "outputs": []
    },
    {
      "cell_type": "code",
      "source": [
        "def double_numbers(numbers):\n",
        "    \"\"\"\n",
        "    This function takes a list of numbers and returns a new list with each element doubled.\n",
        "\n",
        "    Args:\n",
        "    numbers: A list of numbers.\n",
        "\n",
        "    Returns:\n",
        "    A new list with each element doubled.\n",
        "    \"\"\"\n",
        "    doubled_numbers = []\n",
        "    for number in numbers:\n",
        "        doubled_numbers.append(number * 2)\n",
        "    return doubled_numbers\n",
        "\n",
        "\n",
        "def main():\n",
        "    # Example usage\n",
        "    numbers = [1, 2, 3, 4]\n",
        "    doubled_numbers = double_numbers(numbers)\n",
        "    print(\"The doubled numbers are:\", doubled_numbers)\n",
        "\n",
        "\n",
        "# This provided line is required at the end of\n",
        "# Python file to call the main() function.\n",
        "if __name__ == '__main__':\n",
        "    main()"
      ],
      "metadata": {
        "id": "B-PkJDLxqhxX"
      },
      "execution_count": null,
      "outputs": []
    },
    {
      "cell_type": "code",
      "source": [
        "import pygame\n",
        "\n",
        "# Initialize Pygame\n",
        "pygame.init()\n",
        "\n",
        "# Set up the display\n",
        "width, height = 800, 600\n",
        "screen = pygame.display.set_mode((width, height))\n",
        "pygame.display.set_caption(\"Canvas Eraser\")\n",
        "\n",
        "# Cell properties\n",
        "cell_size = 20\n",
        "cell_color = (0, 0, 255)  # Blue\n",
        "\n",
        "# Create the grid of cells\n",
        "grid = []\n",
        "for row in range(height // cell_size):\n",
        "    grid_row = []\n",
        "    for col in range(width // cell_size):\n",
        "        grid_row.append(cell_color)\n",
        "    grid.append(grid_row)\n",
        "\n",
        "# Eraser properties\n",
        "eraser_size = 20\n",
        "eraser_color = (255, 255, 255)  # White\n",
        "eraser_"
      ],
      "metadata": {
        "id": "R8c814Sfqq1v"
      },
      "execution_count": null,
      "outputs": []
    },
    {
      "cell_type": "code",
      "source": [],
      "metadata": {
        "id": "yv3n8Uerqx9u"
      },
      "execution_count": null,
      "outputs": []
    },
    {
      "cell_type": "code",
      "source": [
        "def add_three_copies(my_list, data):\n",
        "    \"\"\"\n",
        "    Adds three copies of the given data to the provided list.\n",
        "\n",
        "    Args:\n",
        "        my_list: The list to modify.\n",
        "        data: The data to add to the list.\n",
        "    \"\"\"\n",
        "    for _ in range(3):\n",
        "        my_list.append(data)\n",
        "\n",
        "\n",
        "def main():\n",
        "    # Get input from the user\n",
        "    data = input(\"Enter a message to copy: \")\n",
        "\n",
        "    # Create an empty list\n",
        "    my_list = []\n",
        "\n",
        "    # Print the list before modification\n",
        "    print(\"List before:\", my_list)\n",
        "\n",
        "    # Call the function to modify the list\n",
        "    add_three_copies(my_list, data)\n",
        "\n",
        "    # Print the list after modification\n",
        "    print(\"List after:\", my_list)\n",
        "\n",
        "\n",
        "# This provided line is required at the end of\n",
        "# Python file to call the main() function.\n",
        "if __name__ == '__main__':\n",
        "    main()"
      ],
      "metadata": {
        "id": "WIG4BteDq_n1"
      },
      "execution_count": null,
      "outputs": []
    },
    {
      "cell_type": "code",
      "source": [
        "def get_first_element(lst):\n",
        "  \"\"\"\n",
        "  Prints the first element of a list.\n",
        "\n",
        "  Args:\n",
        "    lst: The list to get the first element from.\n",
        "  \"\"\"\n",
        "  print(lst[0])  # Access the first element using index 0 and print it\n",
        "\n",
        "\n",
        "def main():\n",
        "  # Get the number of elements in the list\n",
        "  num_elements = int(input(\"Enter the number of elements in the list: \"))\n",
        "\n",
        "  # Create an empty list\n",
        "  lst = []\n",
        "\n",
        "  # Get the elements of the list from the user\n",
        "  for _ in range(num_elements):\n",
        "    element = input(\"Enter an element: \")\n",
        "    lst.append(element)\n",
        "\n",
        "  # Get and print the first element of the list\n",
        "  get_first_element(lst)\n",
        "\n",
        "\n",
        "# This provided line is required at the end of\n",
        "# Python file to call the main() function.\n",
        "if __name__ == '__main__':\n",
        "  main()"
      ],
      "metadata": {
        "id": "SuLxOMtRrKpV"
      },
      "execution_count": null,
      "outputs": []
    },
    {
      "cell_type": "code",
      "source": [
        "def get_last_element(lst):\n",
        "    \"\"\"\n",
        "    Prints the last element of a list.\n",
        "\n",
        "    Args:\n",
        "      lst: The list to get the last element from.\n",
        "    \"\"\"\n",
        "    print(lst[-1])  # Access the last element using index -1 and print it\n",
        "\n",
        "\n",
        "def main():\n",
        "    # Get the number of elements in the list\n",
        "    num_elements = int(input(\"Enter the number of elements in the list: \"))\n",
        "\n",
        "    # Create an empty list\n",
        "    lst = []\n",
        "\n",
        "    # Get the elements of the list from the user\n",
        "    for _ in range(num_elements):\n",
        "        element = input(\"Enter an element: \")\n",
        "        lst.append(element)\n",
        "\n",
        "    # Get and print the last element of the list\n",
        "    get_last_element(lst)\n",
        "\n",
        "\n",
        "# This provided line is required at the end of\n",
        "# Python file to call the main() function.\n",
        "if __name__ == '__main__':\n",
        "    main()"
      ],
      "metadata": {
        "id": "rdHbxpZGrYEh"
      },
      "execution_count": null,
      "outputs": []
    },
    {
      "cell_type": "code",
      "source": [
        "def main():\n",
        "    my_list = []\n",
        "    while True:\n",
        "        value = input(\"Enter a value: \")\n",
        "        if value == \"\":\n",
        "            break  # Exit the loop if the input is empty\n",
        "        my_list.append(value)\n",
        "    print(\"Here's the list:\", my_list)\n",
        "\n",
        "# This provided line is required at the end of\n",
        "# Python file to call the main() function.\n",
        "if __name__ == '__main__':\n",
        "    main()"
      ],
      "metadata": {
        "id": "CDC-kQnSrtfo"
      },
      "execution_count": null,
      "outputs": []
    },
    {
      "cell_type": "code",
      "source": [
        "MAX_LENGTH = 3\n",
        "\n",
        "def shorten(lst):\n",
        "  \"\"\"\n",
        "  Removes elements from the end of a list until it reaches MAX_LENGTH.\n",
        "\n",
        "  Args:\n",
        "    lst: The list to shorten.\n",
        "  \"\"\"\n",
        "  while len(lst) > MAX_LENGTH:\n",
        "    removed_item = lst.pop()  # Remove and get the last element\n",
        "    print(\"Removed:\", removed_item)\n",
        "\n",
        "def main():\n",
        "  # Get the number of elements in the list\n",
        "  num_elements = int(input(\"Enter the number of elements in the list: \"))\n",
        "\n",
        "  # Create an empty list\n",
        "  lst = []\n",
        "\n",
        "  # Get the elements of the list from the user\n",
        "  for _ in range(num_elements):\n",
        "    element = input(\"Enter an element: \")\n",
        "    lst.append(element)\n",
        "\n",
        "  # Shorten the list and print the removed items\n",
        "  shorten(lst)\n",
        "  print(\"List after shortening:\", lst)\n",
        "\n",
        "\n",
        "# This provided line is required at the end of\n",
        "# Python file to call the main() function.\n",
        "if __name__ == '__main__':\n",
        "  main()"
      ],
      "metadata": {
        "id": "oDv1u8Glr4zy"
      },
      "execution_count": null,
      "outputs": []
    }
  ]
}