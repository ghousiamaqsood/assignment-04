{
  "nbformat": 4,
  "nbformat_minor": 0,
  "metadata": {
    "colab": {
      "private_outputs": true,
      "provenance": [],
      "authorship_tag": "ABX9TyMwgtGms4SQzwGrhMHpUKbc",
      "include_colab_link": true
    },
    "kernelspec": {
      "name": "python3",
      "display_name": "Python 3"
    },
    "language_info": {
      "name": "python"
    }
  },
  "cells": [
    {
      "cell_type": "markdown",
      "metadata": {
        "id": "view-in-github",
        "colab_type": "text"
      },
      "source": [
        "<a href=\"https://colab.research.google.com/github/ghousiamaqsood/assignment-04/blob/main/04_dictionaries_ipynb.ipynb\" target=\"_parent\"><img src=\"https://colab.research.google.com/assets/colab-badge.svg\" alt=\"Open In Colab\"/></a>"
      ]
    },
    {
      "cell_type": "code",
      "execution_count": null,
      "metadata": {
        "id": "_mhM6aSOvKtR"
      },
      "outputs": [],
      "source": [
        "def main():\n",
        "    # Create an empty dictionary to store the counts.\n",
        "    counts = {}\n",
        "\n",
        "    # Get input from the user until they enter a blank line.\n",
        "    while True:\n",
        "        number_str = input(\"Enter a number: \")\n",
        "        if number_str == \"\":\n",
        "            break\n",
        "\n",
        "        # Convert the input to an integer.\n",
        "        number = int(number_str)\n",
        "\n",
        "        # Update the count for this number.\n",
        "        if number in counts:\n",
        "            counts[number] += 1\n",
        "        else:\n",
        "            counts[number] = 1\n",
        "\n",
        "    # Print the results.\n",
        "    for number, count in counts.items():\n",
        "        print(f\"{number} appears {count} times.\")\n",
        "\n",
        "\n",
        "# This provided line is required at the end of\n",
        "# Python file to call the main() function.\n",
        "if __name__ == '__main__':\n",
        "    main()"
      ]
    },
    {
      "cell_type": "code",
      "source": [
        "def main():\n",
        "    # Create a dictionary to store phonebook entries.\n",
        "    phonebook = {}\n",
        "\n",
        "    # Add some initial entries.\n",
        "    phonebook[\"John Doe\"] = \"555-1234\"\n",
        "    phonebook[\"Jane Smith\"] = \"555-5678\"\n",
        "    phonebook[\"Peter Jones\"] = \"555-9012\"\n",
        "\n",
        "    # Print the phonebook.\n",
        "    print(\"Phonebook:\")\n",
        "    for name, number in phonebook.items():\n",
        "        print(f\"{name}: {number}\")\n",
        "\n",
        "    # Look up a number.\n",
        "    name = input(\"Enter a name to look up: \")\n",
        "    if name in phonebook:\n",
        "        number = phonebook[name]\n",
        "        print(f\"The number for {name} is {number}.\")\n",
        "    else:\n",
        "        print(f\"{name} is not in the phonebook.\")\n",
        "\n",
        "\n",
        "# This provided line is required at the end of\n",
        "# Python file to call the main() function.\n",
        "if __name__ == '__main__':\n",
        "    main()"
      ],
      "metadata": {
        "id": "upjuABgev_GH"
      },
      "execution_count": null,
      "outputs": []
    },
    {
      "cell_type": "code",
      "source": [],
      "metadata": {
        "id": "inXxHzIKwHxl"
      },
      "execution_count": null,
      "outputs": []
    },
    {
      "cell_type": "code",
      "source": [
        "def main():\n",
        "    fruit_prices = {\n",
        "        \"apple\": 5.5,\n",
        "        \"durian\": 50,\n",
        "        \"jackfruit\": 35,\n",
        "        \"kiwi\": 2.5,\n",
        "        \"rambutan\": 10,\n",
        "        \"mango\": 12.5\n",
        "    }\n",
        "\n",
        "    total_cost = 0\n",
        "\n",
        "    for fruit in fruit_prices:\n",
        "        quantity = int(input(f\"How many ({fruit}) do you want?: \"))\n",
        "        total_cost += quantity * fruit_prices[fruit]\n",
        "\n",
        "    print(f\"Your total is ${total_cost}\")\n",
        "\n",
        "\n",
        "if __name__ == \"__main__\":\n",
        "    main()"
      ],
      "metadata": {
        "id": "p_Ar-20Vvo_m"
      },
      "execution_count": null,
      "outputs": []
    },
    {
      "cell_type": "code",
      "source": [
        "import hashlib\n",
        "\n",
        "def hash_password(password):\n",
        "    \"\"\"Hashes a password using SHA256.\"\"\"\n",
        "    # Encode the password to bytes\n",
        "    password_bytes = password.encode('utf-8')\n",
        "\n",
        "    # Create a SHA256 hash object\n",
        "    sha256_hash = hashlib.sha256()\n",
        "\n",
        "    # Update the hash object with the password bytes\n",
        "    sha256_hash.update(password_bytes)\n",
        "\n",
        "    # Return the hexadecimal representation of the hash\n",
        "    return sha256_hash.hexdigest()\n",
        "\n",
        "def login(email, password_to_check, stored_logins):\n",
        "    \"\"\"Checks if the given password matches the stored hash for the email.\"\"\"\n",
        "\n",
        "    # Get the stored hash for the email\n",
        "    stored_hash = stored_logins.get(email)\n",
        "\n",
        "    # If there's no stored hash for the email, return False\n",
        "    if stored_"
      ],
      "metadata": {
        "id": "cTuHHaQKyoet"
      },
      "execution_count": null,
      "outputs": []
    },
    {
      "cell_type": "code",
      "source": [],
      "metadata": {
        "id": "MjkgU0Hsy25P"
      },
      "execution_count": null,
      "outputs": []
    }
  ]
}