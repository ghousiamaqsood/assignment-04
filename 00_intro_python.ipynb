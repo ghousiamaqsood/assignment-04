{
  "nbformat": 4,
  "nbformat_minor": 0,
  "metadata": {
    "colab": {
      "private_outputs": true,
      "provenance": [],
      "authorship_tag": "ABX9TyPIDqha6wVM7R2P44ncgVPQ",
      "include_colab_link": true
    },
    "kernelspec": {
      "name": "python3",
      "display_name": "Python 3"
    },
    "language_info": {
      "name": "python"
    }
  },
  "cells": [
    {
      "cell_type": "markdown",
      "metadata": {
        "id": "view-in-github",
        "colab_type": "text"
      },
      "source": [
        "<a href=\"https://colab.research.google.com/github/ghousiamaqsood/assignment-04/blob/main/00_intro_python.ipynb\" target=\"_parent\"><img src=\"https://colab.research.google.com/assets/colab-badge.svg\" alt=\"Open In Colab\"/></a>"
      ]
    },
    {
      "cell_type": "code",
      "execution_count": null,
      "metadata": {
        "id": "wdPvrEYeWY70"
      },
      "outputs": [],
      "source": [
        "# Prompt the user to enter the first number\n",
        "num1 = int(input(\"Enter the first number: \"))\n",
        "\n",
        "# Prompt the user to enter the second number\n",
        "num2 = int(input(\"Enter the second number: \"))\n",
        "\n",
        "# Calculate the sum of the two numbers\n",
        "total_sum = num1 + num2\n",
        "\n",
        "# Print the total sum with an appropriate message\n",
        "print(\"The sum of\", num1, \"and\", num2, \"is:\", total_sum)"
      ]
    },
    {
      "cell_type": "code",
      "source": [],
      "metadata": {
        "id": "jxW-blh9Xy3q"
      },
      "execution_count": null,
      "outputs": []
    },
    {
      "cell_type": "code",
      "source": [
        "# Prompt the user for their favorite animal\n",
        "favorite_animal = input(\"What's your favorite animal? \")\n",
        "\n",
        "# Respond with the same animal\n",
        "print(\"My favorite animal is also\", favorite_animal + \"!\")"
      ],
      "metadata": {
        "id": "PFhDLWUjXZ1W"
      },
      "execution_count": null,
      "outputs": []
    },
    {
      "cell_type": "code",
      "source": [
        "# Prompt the user for temperature in Fahrenheit\n",
        "degrees_fahrenheit = float(input(\"Enter temperature in Fahrenheit: \"))\n",
        "\n",
        "# Convert Fahrenheit to Celsius\n",
        "degrees_celsius = (degrees_fahrenheit - 32) * 5.0 / 9.0\n",
        "\n",
        "# Output the converted temperature\n",
        "print(\"Temperature:\", degrees_fahrenheit, \"F =\", degrees_celsius, \"C\")"
      ],
      "metadata": {
        "id": "aYsMPZxyZQXr"
      },
      "execution_count": null,
      "outputs": []
    },
    {
      "cell_type": "code",
      "source": [],
      "metadata": {
        "id": "R41QUwPAZiMu"
      },
      "execution_count": null,
      "outputs": []
    },
    {
      "cell_type": "code",
      "source": [
        "# Anton's age\n",
        "anton_age = 21\n",
        "\n",
        "# Beth's age\n",
        "beth_age = anton_age + 6\n",
        "\n",
        "# Chen's age\n",
        "chen_age = beth_age + 20\n",
        "\n",
        "# Drew's age\n",
        "drew_age = chen_age + anton_age\n",
        "\n",
        "# Ethan's age\n",
        "ethan_age = chen_age\n",
        "\n",
        "# Print the names and ages\n",
        "print(\"Anton is\", anton_age, \"years old.\")\n",
        "print(\"Beth is\", beth_age, \"years old.\")\n",
        "print(\"Chen is\", chen_age, \"years old.\")\n",
        "print(\"Drew is\", drew_age, \"years old.\")\n",
        "print(\"Ethan is\", ethan_age, \"years old.\")"
      ],
      "metadata": {
        "id": "m_Bczj3fZp6n"
      },
      "execution_count": null,
      "outputs": []
    },
    {
      "cell_type": "code",
      "source": [
        "# Prompt the user for the length of each side\n",
        "side1 = float(input(\"What is the length of side 1? \"))\n",
        "side2 = float(input(\"What is the length of side 2? \"))\n",
        "side3 = float(input(\"What is the length of side 3? \"))\n",
        "\n",
        "# Calculate the perimeter\n",
        "perimeter = side1 + side2 + side3\n",
        "\n",
        "# Print the perimeter\n",
        "print(\"The perimeter of the triangle is\", perimeter)"
      ],
      "metadata": {
        "id": "_6_PSs-sZ07b"
      },
      "execution_count": null,
      "outputs": []
    },
    {
      "cell_type": "code",
      "source": [
        "# Prompt the user for a number\n",
        "number = float(input(\"Type a number to see its square: \"))\n",
        "\n",
        "# Calculate the square\n",
        "square = number ** 2\n",
        "\n",
        "# Print the result\n",
        "print(number, \"squared is\", square)"
      ],
      "metadata": {
        "id": "VRA4BAVmaBQ0"
      },
      "execution_count": null,
      "outputs": []
    }
  ]
}