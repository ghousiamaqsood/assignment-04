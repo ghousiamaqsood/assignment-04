{
  "nbformat": 4,
  "nbformat_minor": 0,
  "metadata": {
    "colab": {
      "private_outputs": true,
      "provenance": [],
      "authorship_tag": "ABX9TyM6W8cgdpIVshUz0/djQWd2",
      "include_colab_link": true
    },
    "kernelspec": {
      "name": "python3",
      "display_name": "Python 3"
    },
    "language_info": {
      "name": "python"
    }
  },
  "cells": [
    {
      "cell_type": "markdown",
      "metadata": {
        "id": "view-in-github",
        "colab_type": "text"
      },
      "source": [
        "<a href=\"https://colab.research.google.com/github/ghousiamaqsood/assignment-04/blob/main/01_expression.ipynb\" target=\"_parent\"><img src=\"https://colab.research.google.com/assets/colab-badge.svg\" alt=\"Open In Colab\"/></a>"
      ]
    },
    {
      "cell_type": "code",
      "execution_count": null,
      "metadata": {
        "id": "NVaGLHyLmNyt"
      },
      "outputs": [],
      "source": [
        "import random\n",
        "\n",
        "def roll_dice():\n",
        "  \"\"\"Simulates rolling a single die and returns the result.\"\"\"\n",
        "  die1 = random.randint(1, 6)\n",
        "  die2 = random.randint(1, 6)\n",
        "  return die1, die2\n",
        "\n",
        "\n",
        "def main():\n",
        "  \"\"\"Rolls two dice three times and prints the results.\"\"\"\n",
        "  for _ in range(3):  # Simulate 3 rolls\n",
        "    die1_result, die2_result = roll_dice()\n",
        "    print(f\"Die 1: {die1_result}, Die 2: {die2_result}\")\n",
        "\n",
        "# This provided line is required at the end of\n",
        "# Python file to call the main() function.\n",
        "if __name__ == '__main__':\n",
        "  main()"
      ]
    },
    {
      "cell_type": "code",
      "source": [
        "def main():\n",
        "  \"\"\"Continually reads mass from the user and calculates energy.\"\"\"\n",
        "  while True:\n",
        "    try:\n",
        "      mass = float(input(\"Enter kilos of mass: \"))\n",
        "      if mass < 0:\n",
        "        print(\"Mass cannot be negative. Please enter a positive value.\")\n",
        "        continue\n",
        "\n",
        "      # Speed of light in meters per second\n",
        "      c = 299792458\n",
        "\n",
        "      # Calculate energy\n",
        "      energy = mass * c**2\n",
        "\n",
        "      # Print the results\n",
        "      print(\"\\ne = m * C^2...\")\n",
        "      print(f\"m = {mass:.1f} kg\")\n",
        "      print(f\"C = {c} m/s\")\n",
        "      print(f\"{energy:.16e} joules of energy!\\n\")\n",
        "\n",
        "    except ValueError:\n",
        "      print(\"Invalid input. Please enter a valid number for mass.\")\n",
        "\n",
        "# This provided line is required"
      ],
      "metadata": {
        "id": "VHz0bPwVmZJL"
      },
      "execution_count": null,
      "outputs": []
    },
    {
      "cell_type": "code",
      "source": [],
      "metadata": {
        "id": "bOShlhLwnicm"
      },
      "execution_count": null,
      "outputs": []
    },
    {
      "cell_type": "code",
      "source": [
        "def main():\n",
        "    \"\"\"Converts feet to inches.\"\"\"\n",
        "    while True:\n",
        "        try:\n",
        "            feet = float(input(\"Enter length in feet: \"))\n",
        "            inches = feet * 12  # 12 inches per foot\n",
        "\n",
        "            # Handle singular/plural for \"foot/feet\"\n",
        "            foot_unit = \"foot\" if feet == 1 else \"feet\"\n",
        "\n",
        "            print(f\"{feet:.2f} {foot_unit} is equal to {inches:.2f} inches.\")\n",
        "            break  # Exit the loop after successful conversion\n",
        "\n",
        "        except ValueError:\n",
        "            print(\"Invalid input. Please enter a valid number for feet.\")\n",
        "\n",
        "# This provided line is required at the end of\n",
        "# Python file to call the main() function.\n",
        "if __name__ == '__main__':\n",
        "    main()"
      ],
      "metadata": {
        "id": "F7zMalE7nArb"
      },
      "execution_count": null,
      "outputs": []
    },
    {
      "cell_type": "code",
      "source": [
        "def feet_to_inches(feet):\n",
        "  \"\"\"Converts feet to inches and handles singular/plural forms.\n",
        "\n",
        "  Args:\n",
        "    feet: The length in feet.\n",
        "\n",
        "  Returns:\n",
        "    A string representing the conversion result.\n",
        "  \"\"\"\n",
        "  inches = feet * 12  # 12 inches per foot\n",
        "  foot_unit = \"foot\" if feet == 1 else \"feet\"\n",
        "  return f\"{feet:.2f} {foot_unit} is equal to {inches:.2f} inches.\"\n",
        "\n",
        "# Get input from the user\n",
        "feet_input = float(input(\"Enter length in feet: \"))\n",
        "\n",
        "# Perform the conversion and print the result\n",
        "result = feet_to_inches(feet_input)\n",
        "print(result)"
      ],
      "metadata": {
        "id": "D6Dzd9bnnlR-"
      },
      "execution_count": null,
      "outputs": []
    },
    {
      "cell_type": "code",
      "source": [
        "import math\n",
        "\n",
        "def main():\n",
        "  \"\"\"Calculates the hypotenuse of a right triangle.\"\"\"\n",
        "  # Get the lengths of the two perpendicular sides from the user\n",
        "  ab = float(input(\"Enter the length of AB: \"))\n",
        "  ac = float(input(\"Enter the length of AC: \"))\n",
        "\n",
        "  # Calculate the length of the hypotenuse using the Pythagorean theorem\n",
        "  bc = math.sqrt(ab**2 + ac**2)\n",
        "\n",
        "  # Print the result\n",
        "  print(f\"The length of BC (the hypotenuse) is: {bc}\")\n",
        "\n",
        "# This provided line is required at the end of\n",
        "# Python file to call the main() function.\n",
        "if __name__ == '__main__':\n",
        "  main()\n",
        ""
      ],
      "metadata": {
        "id": "T0q1e8psn0o4"
      },
      "execution_count": null,
      "outputs": []
    },
    {
      "cell_type": "code",
      "source": [
        "def main():\n",
        "    \"\"\"Asks the user for two numbers and performs division.\"\"\"\n",
        "    try:\n",
        "        dividend = int(input(\"Please enter an integer to be divided: \"))\n",
        "        divisor = int(input(\"Please enter an integer to divide by: \"))\n",
        "\n",
        "        # Perform the division\n",
        "        result = dividend // divisor  # Integer division (//) to get the quotient\n",
        "        remainder = dividend % divisor  # Modulo operator (%) to get the remainder\n",
        "\n",
        "        print(f\"The result of this division is {result} with a remainder of {remainder}\")\n",
        "\n",
        "    except ValueError:\n",
        "        print(\"Invalid input. Please enter integers only.\")\n",
        "    except ZeroDivisionError:\n",
        "        print(\"Error: Cannot divide by zero.\")\n",
        "\n",
        "if __name__ == \"__main__\":\n",
        "    main()"
      ],
      "metadata": {
        "id": "GRPaoCUxn8L-"
      },
      "execution_count": null,
      "outputs": []
    },
    {
      "cell_type": "code",
      "source": [],
      "metadata": {
        "id": "xfp5TPkWoUJj"
      },
      "execution_count": null,
      "outputs": []
    },
    {
      "cell_type": "code",
      "source": [
        "import random\n",
        "\n",
        "def roll_dice():\n",
        "  \"\"\"Simulates rolling two dice and returns the results.\"\"\"\n",
        "  die1 = random.randint(1, 6)\n",
        "  die2 = random.randint(1, 6)\n",
        "  return die1, die2\n",
        "\n",
        "def main():\n",
        "  \"\"\"Rolls two dice and prints the results and the total.\"\"\"\n",
        "  die1_result, die2_result = roll_dice()\n",
        "  total = die1_result + die2_result\n",
        "  print(f\"Die 1: {die1_result}, Die 2: {die2_result}, Total: {total}\")\n",
        "\n",
        "# This provided line is required at the end of\n",
        "# Python file to call the main() function.\n",
        "if __name__ == '__main__':\n",
        "  main()"
      ],
      "metadata": {
        "id": "DlDLIxWan51L"
      },
      "execution_count": null,
      "outputs": []
    },
    {
      "cell_type": "code",
      "source": [
        "def main():\n",
        "    \"\"\"Calculates and prints the number of seconds in a year.\"\"\"\n",
        "\n",
        "    # Define constants\n",
        "    DAYS_IN_YEAR = 365\n",
        "    HOURS_IN_DAY = 24\n",
        "    MINUTES_IN_HOUR = 60\n",
        "    SECONDS_IN_MINUTE = 60\n",
        "\n",
        "    # Calculate the total number of seconds in a year\n",
        "    seconds_in_year = DAYS_IN_YEAR * HOURS_IN_DAY * MINUTES_IN_HOUR * SECONDS_IN_MINUTE\n",
        "\n",
        "    # Print the result\n",
        "    print(f\"There are {seconds_in_year} seconds in a year!\")\n",
        "\n",
        "# This provided line is required at the end of\n",
        "# Python file to call the main() function.\n",
        "if __name__ == '__main__':\n",
        "    main()"
      ],
      "metadata": {
        "id": "rKz5_8cloZSW"
      },
      "execution_count": null,
      "outputs": []
    },
    {
      "cell_type": "code",
      "source": [],
      "metadata": {
        "id": "UMR5W3keo6Ou"
      },
      "execution_count": null,
      "outputs": []
    },
    {
      "cell_type": "code",
      "source": [
        "def main():\n",
        "    \"\"\"Prompts the user for an adjective, noun, and verb, then prints a sentence.\"\"\"\n",
        "\n",
        "    SENTENCE_START = \"Code in Place is fun. I learned to program and used Python to make my \"\n",
        "\n",
        "    # Get input from the user\n",
        "    adjective = input(\"Please type an adjective and press enter. \")\n",
        "    noun = input(\"Please type a noun and press enter. \")\n",
        "    verb = input(\"Please type a verb and press enter. \")\n",
        "\n",
        "    # Create the sentence\n",
        "    sentence = SENTENCE_START + adjective + \" \" + noun + \" \" + verb + \"!\"\n",
        "\n",
        "    # Print the sentence\n",
        "    print(sentence)\n",
        "\n",
        "# This provided line is required at the end of\n",
        "# Python file to call the main() function.\n",
        "if __name__ == '__main__':\n",
        "    main()"
      ],
      "metadata": {
        "id": "3YdriIHSomnp"
      },
      "execution_count": null,
      "outputs": []
    }
  ]
}